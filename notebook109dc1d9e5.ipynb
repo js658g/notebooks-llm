{
 "cells": [
  {
   "cell_type": "code",
   "execution_count": 1,
   "id": "c10966f1",
   "metadata": {
    "_cell_guid": "b1076dfc-b9ad-4769-8c92-a6c4dae69d19",
    "_uuid": "8f2839f25d086af736a60e9eeb907d3b93b6e0e5",
    "execution": {
     "iopub.execute_input": "2025-03-25T11:16:43.145778Z",
     "iopub.status.busy": "2025-03-25T11:16:43.145478Z",
     "iopub.status.idle": "2025-03-25T11:16:53.388621Z",
     "shell.execute_reply": "2025-03-25T11:16:53.387958Z"
    },
    "papermill": {
     "duration": 10.25077,
     "end_time": "2025-03-25T11:16:53.389957",
     "exception": false,
     "start_time": "2025-03-25T11:16:43.139187",
     "status": "completed"
    },
    "tags": []
   },
   "outputs": [],
   "source": [
    "import pandas as pd\n",
    "import numpy as np\n",
    "import torch\n",
    "from transformers import AutoTokenizer, AutoModelForSequenceClassification\n"
   ]
  },
  {
   "cell_type": "code",
   "execution_count": 2,
   "id": "5f0f6f46",
   "metadata": {
    "execution": {
     "iopub.execute_input": "2025-03-25T11:16:53.400814Z",
     "iopub.status.busy": "2025-03-25T11:16:53.400467Z",
     "iopub.status.idle": "2025-03-25T11:16:54.115360Z",
     "shell.execute_reply": "2025-03-25T11:16:54.114482Z"
    },
    "papermill": {
     "duration": 0.721712,
     "end_time": "2025-03-25T11:16:54.116984",
     "exception": false,
     "start_time": "2025-03-25T11:16:53.395272",
     "status": "completed"
    },
    "tags": []
   },
   "outputs": [
    {
     "name": "stdout",
     "output_type": "stream",
     "text": [
      "Traceback (most recent call last):\r\n",
      "  File \"/usr/local/bin/kaggle\", line 5, in <module>\r\n",
      "    from kaggle.cli import main\r\n",
      "  File \"/usr/local/lib/python3.10/dist-packages/kaggle/__init__.py\", line 7, in <module>\r\n",
      "    api.authenticate()\r\n",
      "  File \"/usr/local/lib/python3.10/dist-packages/kaggle/api/kaggle_api_extended.py\", line 407, in authenticate\r\n",
      "    raise IOError('Could not find {}. Make sure it\\'s located in'\r\n",
      "OSError: Could not find kaggle.json. Make sure it's located in /root/.config/kaggle. Or use the environment method. See setup instructions at https://github.com/Kaggle/kaggle-api/\r\n",
      "unzip:  cannot find or open llm-classification-finetuning.zip, llm-classification-finetuning.zip.zip or llm-classification-finetuning.zip.ZIP.\r\n"
     ]
    }
   ],
   "source": [
    "!kaggle competitions download -c llm-classification-finetuning\n",
    "!unzip llm-classification-finetuning.zip\n"
   ]
  },
  {
   "cell_type": "code",
   "execution_count": 3,
   "id": "894a174f",
   "metadata": {
    "execution": {
     "iopub.execute_input": "2025-03-25T11:16:54.128769Z",
     "iopub.status.busy": "2025-03-25T11:16:54.128522Z",
     "iopub.status.idle": "2025-03-25T11:16:57.348558Z",
     "shell.execute_reply": "2025-03-25T11:16:57.347872Z"
    },
    "papermill": {
     "duration": 3.227852,
     "end_time": "2025-03-25T11:16:57.350182",
     "exception": false,
     "start_time": "2025-03-25T11:16:54.122330",
     "status": "completed"
    },
    "tags": []
   },
   "outputs": [],
   "source": [
    "BASE_PATH = \"/kaggle/input/llm-classification-finetuning\"  # Adjust based on your environment\n",
    "test_df = pd.read_csv(f'{BASE_PATH}/test.csv')\n",
    "train_df = pd.read_csv(f'{BASE_PATH}/train.csv')\n",
    "\n"
   ]
  },
  {
   "cell_type": "code",
   "execution_count": 4,
   "id": "da9b9bc5",
   "metadata": {
    "execution": {
     "iopub.execute_input": "2025-03-25T11:16:57.361741Z",
     "iopub.status.busy": "2025-03-25T11:16:57.361491Z",
     "iopub.status.idle": "2025-03-25T11:16:57.429583Z",
     "shell.execute_reply": "2025-03-25T11:16:57.428321Z"
    },
    "papermill": {
     "duration": 0.075642,
     "end_time": "2025-03-25T11:16:57.431098",
     "exception": false,
     "start_time": "2025-03-25T11:16:57.355456",
     "status": "completed"
    },
    "tags": []
   },
   "outputs": [
    {
     "name": "stdout",
     "output_type": "stream",
     "text": [
      "       id             model_a              model_b  \\\n",
      "0   30192  gpt-4-1106-preview           gpt-4-0613   \n",
      "1   53567           koala-13b           gpt-4-0613   \n",
      "2   65089  gpt-3.5-turbo-0613       mistral-medium   \n",
      "3   96401    llama-2-13b-chat  mistral-7b-instruct   \n",
      "4  198779           koala-13b   gpt-3.5-turbo-0314   \n",
      "\n",
      "                                              prompt  \\\n",
      "0  [\"Is it morally right to try to have a certain...   \n",
      "1  [\"What is the difference between marriage lice...   \n",
      "2  [\"explain function calling. how would you call...   \n",
      "3  [\"How can I create a test set for a very rare ...   \n",
      "4  [\"What is the best way to travel from Tel-Aviv...   \n",
      "\n",
      "                                          response_a  \\\n",
      "0  [\"The question of whether it is morally right ...   \n",
      "1  [\"A marriage license is a legal document that ...   \n",
      "2  [\"Function calling is the process of invoking ...   \n",
      "3  [\"Creating a test set for a very rare category...   \n",
      "4  [\"The best way to travel from Tel Aviv to Jeru...   \n",
      "\n",
      "                                          response_b  winner_model_a  \\\n",
      "0  [\"As an AI, I don't have personal beliefs or o...               1   \n",
      "1  [\"A marriage license and a marriage certificat...               0   \n",
      "2  [\"Function calling is the process of invoking ...               0   \n",
      "3  [\"When building a classifier for a very rare c...               1   \n",
      "4  [\"The best way to travel from Tel-Aviv to Jeru...               0   \n",
      "\n",
      "   winner_model_b  winner_tie  \n",
      "0               0           0  \n",
      "1               1           0  \n",
      "2               0           1  \n",
      "3               0           0  \n",
      "4               1           0  \n",
      "<class 'pandas.core.frame.DataFrame'>\n",
      "RangeIndex: 57477 entries, 0 to 57476\n",
      "Data columns (total 9 columns):\n",
      " #   Column          Non-Null Count  Dtype \n",
      "---  ------          --------------  ----- \n",
      " 0   id              57477 non-null  int64 \n",
      " 1   model_a         57477 non-null  object\n",
      " 2   model_b         57477 non-null  object\n",
      " 3   prompt          57477 non-null  object\n",
      " 4   response_a      57477 non-null  object\n",
      " 5   response_b      57477 non-null  object\n",
      " 6   winner_model_a  57477 non-null  int64 \n",
      " 7   winner_model_b  57477 non-null  int64 \n",
      " 8   winner_tie      57477 non-null  int64 \n",
      "dtypes: int64(4), object(5)\n",
      "memory usage: 3.9+ MB\n",
      "None\n",
      "id                0\n",
      "model_a           0\n",
      "model_b           0\n",
      "prompt            0\n",
      "response_a        0\n",
      "response_b        0\n",
      "winner_model_a    0\n",
      "winner_model_b    0\n",
      "winner_tie        0\n",
      "dtype: int64\n"
     ]
    }
   ],
   "source": [
    "import pandas as pd\n",
    "\n",
    "# Display first few rows\n",
    "print(train_df.head())\n",
    "\n",
    "# Check dataset info\n",
    "print(train_df.info())\n",
    "\n",
    "# Check for missing values\n",
    "print(train_df.isnull().sum())\n"
   ]
  },
  {
   "cell_type": "code",
   "execution_count": 5,
   "id": "2a527e75",
   "metadata": {
    "execution": {
     "iopub.execute_input": "2025-03-25T11:16:57.442689Z",
     "iopub.status.busy": "2025-03-25T11:16:57.442442Z",
     "iopub.status.idle": "2025-03-25T11:16:57.708319Z",
     "shell.execute_reply": "2025-03-25T11:16:57.707480Z"
    },
    "papermill": {
     "duration": 0.273082,
     "end_time": "2025-03-25T11:16:57.709771",
     "exception": false,
     "start_time": "2025-03-25T11:16:57.436689",
     "status": "completed"
    },
    "tags": []
   },
   "outputs": [
    {
     "data": {
      "image/png": "[encoded data removed]",
      "text/plain": [
       "<Figure size 600x400 with 1 Axes>"
      ]
     },
     "metadata": {},
     "output_type": "display_data"
    }
   ],
   "source": [
    "import matplotlib.pyplot as plt\n",
    "\n",
    "# Count occurrences of each target class\n",
    "winner_counts = train_df[['winner_model_a', 'winner_model_b', 'winner_tie']].sum()\n",
    "\n",
    "# Plot the distribution\n",
    "plt.figure(figsize=(6, 4))\n",
    "winner_counts.plot(kind='bar', color=['blue', 'orange', 'green'])\n",
    "plt.title('Distribution of User Preferences')\n",
    "plt.ylabel('Count')\n",
    "plt.xticks(rotation=0)\n",
    "plt.show()\n"
   ]
  },
  {
   "cell_type": "code",
   "execution_count": 6,
   "id": "b558ee1b",
   "metadata": {
    "execution": {
     "iopub.execute_input": "2025-03-25T11:16:57.721647Z",
     "iopub.status.busy": "2025-03-25T11:16:57.721415Z",
     "iopub.status.idle": "2025-03-25T11:16:57.926866Z",
     "shell.execute_reply": "2025-03-25T11:16:57.926026Z"
    },
    "papermill": {
     "duration": 0.212733,
     "end_time": "2025-03-25T11:16:57.928191",
     "exception": false,
     "start_time": "2025-03-25T11:16:57.715458",
     "status": "completed"
    },
    "tags": []
   },
   "outputs": [
    {
     "data": {
      "image/png": "[encoded data removed]",
      "text/plain": [
       "<Figure size 800x400 with 1 Axes>"
      ]
     },
     "metadata": {},
     "output_type": "display_data"
    }
   ],
   "source": [
    "train_df['prompt_length'] = train_df['prompt'].apply(len)\n",
    "\n",
    "plt.figure(figsize=(8, 4))\n",
    "plt.hist(train_df['prompt_length'], bins=30, color='purple', alpha=0.7)\n",
    "plt.title('Distribution of Prompt Lengths')\n",
    "plt.xlabel('Number of Characters')\n",
    "plt.ylabel('Frequency')\n",
    "plt.show()\n"
   ]
  },
  {
   "cell_type": "code",
   "execution_count": 7,
   "id": "76d044b0",
   "metadata": {
    "execution": {
     "iopub.execute_input": "2025-03-25T11:16:57.940840Z",
     "iopub.status.busy": "2025-03-25T11:16:57.940608Z",
     "iopub.status.idle": "2025-03-25T11:16:58.249027Z",
     "shell.execute_reply": "2025-03-25T11:16:58.248185Z"
    },
    "papermill": {
     "duration": 0.316108,
     "end_time": "2025-03-25T11:16:58.250470",
     "exception": false,
     "start_time": "2025-03-25T11:16:57.934362",
     "status": "completed"
    },
    "tags": []
   },
   "outputs": [
    {
     "data": {
      "image/png": "[encoded data removed]",
      "text/plain": [
       "<Figure size 800x400 with 1 Axes>"
      ]
     },
     "metadata": {},
     "output_type": "display_data"
    }
   ],
   "source": [
    "train_df['response_a_length'] = train_df['response_a'].apply(len)\n",
    "train_df['response_b_length'] = train_df['response_b'].apply(len)\n",
    "\n",
    "plt.figure(figsize=(8, 4))\n",
    "plt.hist(train_df['response_a_length'], bins=30, alpha=0.6, label='Model A', color='blue')\n",
    "plt.hist(train_df['response_b_length'], bins=30, alpha=0.6, label='Model B', color='orange')\n",
    "plt.title('Response Length Comparison (Model A vs. Model B)')\n",
    "plt.xlabel('Number of Characters')\n",
    "plt.ylabel('Frequency')\n",
    "plt.legend()\n",
    "plt.show()\n"
   ]
  },
  {
   "cell_type": "code",
   "execution_count": 8,
   "id": "44d77bc4",
   "metadata": {
    "execution": {
     "iopub.execute_input": "2025-03-25T11:16:58.264866Z",
     "iopub.status.busy": "2025-03-25T11:16:58.264647Z",
     "iopub.status.idle": "2025-03-25T11:17:31.908228Z",
     "shell.execute_reply": "2025-03-25T11:17:31.907290Z"
    },
    "papermill": {
     "duration": 33.65206,
     "end_time": "2025-03-25T11:17:31.909694",
     "exception": false,
     "start_time": "2025-03-25T11:16:58.257634",
     "status": "completed"
    },
    "tags": []
   },
   "outputs": [
    {
     "name": "stdout",
     "output_type": "stream",
     "text": [
      "[nltk_data] Error loading stopwords: <urlopen error [Errno -3]\n",
      "[nltk_data]     Temporary failure in name resolution>\n",
      "[('n', 11902), ('write', 7576), ('one', 6553), ('like', 6141), ('would', 5850), ('use', 5183), ('make', 4984), ('1', 4822), ('please', 4459), ('2', 4291)]\n"
     ]
    }
   ],
   "source": [
    "from collections import Counter\n",
    "import nltk\n",
    "from nltk.corpus import stopwords\n",
    "import string\n",
    "\n",
    "nltk.download('stopwords')\n",
    "stop_words = set(stopwords.words('english'))\n",
    "\n",
    "# Tokenize and count words\n",
    "all_words = ' '.join(train_df['prompt']).lower().translate(str.maketrans('', '', string.punctuation)).split()\n",
    "filtered_words = [word for word in all_words if word not in stop_words]\n",
    "word_counts = Counter(filtered_words)\n",
    "\n",
    "# Show top 10 words\n",
    "print(word_counts.most_common(10))\n"
   ]
  },
  {
   "cell_type": "code",
   "execution_count": 9,
   "id": "3be38927",
   "metadata": {
    "execution": {
     "iopub.execute_input": "2025-03-25T11:17:31.923928Z",
     "iopub.status.busy": "2025-03-25T11:17:31.923697Z",
     "iopub.status.idle": "2025-03-25T11:17:32.141122Z",
     "shell.execute_reply": "2025-03-25T11:17:32.140310Z"
    },
    "papermill": {
     "duration": 0.225966,
     "end_time": "2025-03-25T11:17:32.142604",
     "exception": false,
     "start_time": "2025-03-25T11:17:31.916638",
     "status": "completed"
    },
    "tags": []
   },
   "outputs": [
    {
     "data": {
      "image/png": "[encoded data removed]",
      "text/plain": [
       "<Figure size 600x400 with 1 Axes>"
      ]
     },
     "metadata": {},
     "output_type": "display_data"
    }
   ],
   "source": [
    "a_wins = train_df['winner_model_a'].sum()\n",
    "b_wins = train_df['winner_model_b'].sum()\n",
    "ties = train_df['winner_tie'].sum()\n",
    "\n",
    "plt.figure(figsize=(6, 4))\n",
    "plt.bar(['Model A Wins', 'Model B Wins', 'Tie'], [a_wins, b_wins, ties], color=['blue', 'orange', 'green'])\n",
    "plt.title('Preference Based on Response Order')\n",
    "plt.ylabel('Count')\n",
    "plt.show()\n"
   ]
  },
  {
   "cell_type": "code",
   "execution_count": 10,
   "id": "23d70655",
   "metadata": {
    "execution": {
     "iopub.execute_input": "2025-03-25T11:17:32.158619Z",
     "iopub.status.busy": "2025-03-25T11:17:32.158370Z",
     "iopub.status.idle": "2025-03-25T11:17:32.230391Z",
     "shell.execute_reply": "2025-03-25T11:17:32.229687Z"
    },
    "papermill": {
     "duration": 0.081462,
     "end_time": "2025-03-25T11:17:32.231973",
     "exception": false,
     "start_time": "2025-03-25T11:17:32.150511",
     "status": "completed"
    },
    "tags": []
   },
   "outputs": [],
   "source": [
    "train_df['prompt_length'] = train_df['prompt'].apply(len)\n",
    "train_df['response_a_length'] = train_df['response_a'].apply(len)\n",
    "train_df['response_b_length'] = train_df['response_b'].apply(len)\n",
    "train_df['length_diff'] = abs(train_df['response_a_length'] - train_df['response_b_length'])\n"
   ]
  },
  {
   "cell_type": "code",
   "execution_count": 11,
   "id": "b6dd6634",
   "metadata": {
    "execution": {
     "iopub.execute_input": "2025-03-25T11:17:32.249364Z",
     "iopub.status.busy": "2025-03-25T11:17:32.249105Z",
     "iopub.status.idle": "2025-03-25T11:17:48.115556Z",
     "shell.execute_reply": "2025-03-25T11:17:48.114584Z"
    },
    "papermill": {
     "duration": 15.876475,
     "end_time": "2025-03-25T11:17:48.116979",
     "exception": false,
     "start_time": "2025-03-25T11:17:32.240504",
     "status": "completed"
    },
    "tags": []
   },
   "outputs": [
    {
     "data": {
      "text/html": [
       "<div>\n",
       "<style scoped>\n",
       "    .dataframe tbody tr th:only-of-type {\n",
       "        vertical-align: middle;\n",
       "    }\n",
       "\n",
       "    .dataframe tbody tr th {\n",
       "        vertical-align: top;\n",
       "    }\n",
       "\n",
       "    .dataframe thead th {\n",
       "        text-align: right;\n",
       "    }\n",
       "</style>\n",
       "<table border=\"1\" class=\"dataframe\">\n",
       "  <thead>\n",
       "    <tr style=\"text-align: right;\">\n",
       "      <th></th>\n",
       "      <th>response_a_readability</th>\n",
       "      <th>response_b_readability</th>\n",
       "      <th>readability_diff</th>\n",
       "    </tr>\n",
       "  </thead>\n",
       "  <tbody>\n",
       "    <tr>\n",
       "      <th>0</th>\n",
       "      <td>-3.038125</td>\n",
       "      <td>27.844706</td>\n",
       "      <td>30.882831</td>\n",
       "    </tr>\n",
       "    <tr>\n",
       "      <th>1</th>\n",
       "      <td>6.225733</td>\n",
       "      <td>8.349632</td>\n",
       "      <td>2.123899</td>\n",
       "    </tr>\n",
       "    <tr>\n",
       "      <th>2</th>\n",
       "      <td>30.041232</td>\n",
       "      <td>31.982619</td>\n",
       "      <td>1.941387</td>\n",
       "    </tr>\n",
       "    <tr>\n",
       "      <th>3</th>\n",
       "      <td>13.666418</td>\n",
       "      <td>21.734209</td>\n",
       "      <td>8.067791</td>\n",
       "    </tr>\n",
       "    <tr>\n",
       "      <th>4</th>\n",
       "      <td>29.738696</td>\n",
       "      <td>20.075922</td>\n",
       "      <td>9.662774</td>\n",
       "    </tr>\n",
       "  </tbody>\n",
       "</table>\n",
       "</div>"
      ],
      "text/plain": [
       "   response_a_readability  response_b_readability  readability_diff\n",
       "0               -3.038125               27.844706         30.882831\n",
       "1                6.225733                8.349632          2.123899\n",
       "2               30.041232               31.982619          1.941387\n",
       "3               13.666418               21.734209          8.067791\n",
       "4               29.738696               20.075922          9.662774"
      ]
     },
     "execution_count": 11,
     "metadata": {},
     "output_type": "execute_result"
    }
   ],
   "source": [
    "def flesch_reading_ease(text):\n",
    "    words = text.split()\n",
    "    num_words = len(words)\n",
    "    num_sentences = text.count('.') + text.count('?') + text.count('!')\n",
    "    num_syllables = sum([sum([char in 'aeiouy' for char in word]) for word in words]) + 1\n",
    "\n",
    "    # Avoid division by zero\n",
    "    if num_sentences == 0:\n",
    "        num_sentences = 1\n",
    "\n",
    "    # Flesch Reading Ease Formula\n",
    "    score = 206.835 - (1.015 * num_words / num_sentences) - (84.6 * (num_syllables / num_words))\n",
    "    return score\n",
    "\n",
    "# Apply to dataset\n",
    "train_df['response_a_readability'] = train_df['response_a'].apply(flesch_reading_ease)\n",
    "train_df['response_b_readability'] = train_df['response_b'].apply(flesch_reading_ease)\n",
    "train_df['readability_diff'] = abs(train_df['response_a_readability'] - train_df['response_b_readability'])\n",
    "\n",
    "# Show sample\n",
    "train_df[['response_a_readability', 'response_b_readability', 'readability_diff']].head()\n"
   ]
  },
  {
   "cell_type": "code",
   "execution_count": 12,
   "id": "47ad2029",
   "metadata": {
    "execution": {
     "iopub.execute_input": "2025-03-25T11:17:48.133692Z",
     "iopub.status.busy": "2025-03-25T11:17:48.133465Z",
     "iopub.status.idle": "2025-03-25T11:17:48.415422Z",
     "shell.execute_reply": "2025-03-25T11:17:48.414523Z"
    },
    "papermill": {
     "duration": 0.29156,
     "end_time": "2025-03-25T11:17:48.416912",
     "exception": false,
     "start_time": "2025-03-25T11:17:48.125352",
     "status": "completed"
    },
    "tags": []
   },
   "outputs": [],
   "source": [
    "import pandas as pd\n",
    "import numpy as np\n",
    "from sklearn.model_selection import train_test_split\n",
    "from sklearn.preprocessing import StandardScaler\n",
    "from sklearn.metrics import log_loss\n",
    "from xgboost import XGBClassifier\n"
   ]
  },
  {
   "cell_type": "code",
   "execution_count": 13,
   "id": "1a129769",
   "metadata": {
    "execution": {
     "iopub.execute_input": "2025-03-25T11:17:48.432552Z",
     "iopub.status.busy": "2025-03-25T11:17:48.432330Z",
     "iopub.status.idle": "2025-03-25T11:17:48.465835Z",
     "shell.execute_reply": "2025-03-25T11:17:48.465208Z"
    },
    "papermill": {
     "duration": 0.042679,
     "end_time": "2025-03-25T11:17:48.467115",
     "exception": false,
     "start_time": "2025-03-25T11:17:48.424436",
     "status": "completed"
    },
    "tags": []
   },
   "outputs": [],
   "source": [
    "# Select useful features\n",
    "features = ['prompt_length', 'response_a_length', 'response_b_length', 'length_diff', 'readability_diff']\n",
    "\n",
    "# Features (X) and Target (y)\n",
    "X = train_df[features]\n",
    "y = train_df[['winner_model_a', 'winner_model_b', 'winner_tie']]  # Multi-class target\n",
    "\n",
    "# Train-validation split (80%-20%)\n",
    "X_train, X_val, y_train, y_val = train_test_split(X, y, test_size=0.2, random_state=42)\n",
    "\n",
    "# Scale features for better performance\n",
    "scaler = StandardScaler()\n",
    "X_train_scaled = scaler.fit_transform(X_train)\n",
    "X_val_scaled = scaler.transform(X_val)\n"
   ]
  },
  {
   "cell_type": "code",
   "execution_count": 14,
   "id": "6d6c68d8",
   "metadata": {
    "execution": {
     "iopub.execute_input": "2025-03-25T11:17:48.482286Z",
     "iopub.status.busy": "2025-03-25T11:17:48.482031Z",
     "iopub.status.idle": "2025-03-25T11:17:48.513589Z",
     "shell.execute_reply": "2025-03-25T11:17:48.512977Z"
    },
    "papermill": {
     "duration": 0.040412,
     "end_time": "2025-03-25T11:17:48.514855",
     "exception": false,
     "start_time": "2025-03-25T11:17:48.474443",
     "status": "completed"
    },
    "tags": []
   },
   "outputs": [],
   "source": [
    "# Convert multi-label target to a single categorical column\n",
    "train_df['winner'] = train_df[['winner_model_a', 'winner_model_b', 'winner_tie']].idxmax(axis=1)\n",
    "\n",
    "# Map categorical labels to numeric values (XGBoost requires this)\n",
    "label_mapping = {'winner_model_a': 0, 'winner_model_b': 1, 'winner_tie': 2}\n",
    "train_df['winner'] = train_df['winner'].map(label_mapping)\n",
    "\n",
    "# Define features and target\n",
    "X = train_df[features]\n",
    "y = train_df['winner']  # Now a single-column integer target\n",
    "\n",
    "# Train-validation split\n",
    "X_train, X_val, y_train, y_val = train_test_split(X, y, test_size=0.2, random_state=42)\n",
    "\n",
    "# Scale the features\n",
    "scaler = StandardScaler()\n",
    "X_train_scaled = scaler.fit_transform(X_train)\n",
    "X_val_scaled = scaler.transform(X_val)\n"
   ]
  },
  {
   "cell_type": "code",
   "execution_count": 15,
   "id": "bf2a799f",
   "metadata": {
    "execution": {
     "iopub.execute_input": "2025-03-25T11:17:48.529861Z",
     "iopub.status.busy": "2025-03-25T11:17:48.529652Z",
     "iopub.status.idle": "2025-03-25T11:17:50.338162Z",
     "shell.execute_reply": "2025-03-25T11:17:50.337117Z"
    },
    "papermill": {
     "duration": 1.817732,
     "end_time": "2025-03-25T11:17:50.339697",
     "exception": false,
     "start_time": "2025-03-25T11:17:48.521965",
     "status": "completed"
    },
    "tags": []
   },
   "outputs": [
    {
     "name": "stdout",
     "output_type": "stream",
     "text": [
      "📊 XGBoost Log Loss: 1.0556\n"
     ]
    }
   ],
   "source": [
    "# Define XGBoost model\n",
    "xgb_model = XGBClassifier(\n",
    "    objective=\"multi:softprob\",  # Multi-class classification\n",
    "    eval_metric=\"mlogloss\",\n",
    "    num_class=3,  # 3 categories: Model A wins, Model B wins, or Tie\n",
    "    learning_rate=0.1,\n",
    "    max_depth=6,\n",
    "    n_estimators=200,\n",
    "    subsample=0.8,\n",
    "    colsample_bytree=0.8\n",
    ")\n",
    "\n",
    "# Train the model\n",
    "xgb_model.fit(X_train_scaled, y_train)\n",
    "\n",
    "# Predict probabilities\n",
    "y_pred_xgb = xgb_model.predict_proba(X_val_scaled)\n",
    "\n",
    "# Evaluate Log Loss\n",
    "xgb_loss = log_loss(y_val, y_pred_xgb)\n",
    "print(f\"📊 XGBoost Log Loss: {xgb_loss:.4f}\")\n"
   ]
  },
  {
   "cell_type": "code",
   "execution_count": 16,
   "id": "059df59f",
   "metadata": {
    "execution": {
     "iopub.execute_input": "2025-03-25T11:17:50.357241Z",
     "iopub.status.busy": "2025-03-25T11:17:50.356967Z",
     "iopub.status.idle": "2025-03-25T11:17:50.371566Z",
     "shell.execute_reply": "2025-03-25T11:17:50.370278Z"
    },
    "papermill": {
     "duration": 0.025084,
     "end_time": "2025-03-25T11:17:50.373307",
     "exception": false,
     "start_time": "2025-03-25T11:17:50.348223",
     "status": "completed"
    },
    "tags": []
   },
   "outputs": [
    {
     "name": "stdout",
     "output_type": "stream",
     "text": [
      "   prompt_length  response_a_length  response_b_length  length_diff  \\\n",
      "0             86                 31                114           83   \n",
      "1            488               1457                460          997   \n",
      "2            217               3984               3716          268   \n",
      "\n",
      "   readability_diff  \n",
      "0         11.461974  \n",
      "1         27.430785  \n",
      "2         28.607267  \n"
     ]
    }
   ],
   "source": [
    "# Ensure test dataset has the same features as train dataset\n",
    "test_df['prompt_length'] = test_df['prompt'].apply(len)\n",
    "test_df['response_a_length'] = test_df['response_a'].apply(len)\n",
    "test_df['response_b_length'] = test_df['response_b'].apply(len)\n",
    "test_df['length_diff'] = abs(test_df['response_a_length'] - test_df['response_b_length'])\n",
    "\n",
    "# If readability feature is used, recalculate it (use the same function as before)\n",
    "def flesch_reading_ease(text):\n",
    "    words = text.split()\n",
    "    num_words = len(words)\n",
    "    num_sentences = text.count('.') + text.count('?') + text.count('!')\n",
    "    num_syllables = sum([sum([char in 'aeiouy' for char in word]) for word in words]) + 1\n",
    "\n",
    "    if num_sentences == 0:\n",
    "        num_sentences = 1\n",
    "\n",
    "    score = 206.835 - (1.015 * num_words / num_sentences) - (84.6 * (num_syllables / num_words))\n",
    "    return score\n",
    "\n",
    "test_df['response_a_readability'] = test_df['response_a'].apply(flesch_reading_ease)\n",
    "test_df['response_b_readability'] = test_df['response_b'].apply(flesch_reading_ease)\n",
    "test_df['readability_diff'] = abs(test_df['response_a_readability'] - test_df['response_b_readability'])\n",
    "\n",
    "# Verify that test_df now has the required columns\n",
    "print(test_df[features].head())\n"
   ]
  },
  {
   "cell_type": "code",
   "execution_count": 17,
   "id": "54a6e471",
   "metadata": {
    "execution": {
     "iopub.execute_input": "2025-03-25T11:17:50.389874Z",
     "iopub.status.busy": "2025-03-25T11:17:50.389647Z",
     "iopub.status.idle": "2025-03-25T11:17:50.411116Z",
     "shell.execute_reply": "2025-03-25T11:17:50.410271Z"
    },
    "papermill": {
     "duration": 0.031049,
     "end_time": "2025-03-25T11:17:50.412579",
     "exception": false,
     "start_time": "2025-03-25T11:17:50.381530",
     "status": "completed"
    },
    "tags": []
   },
   "outputs": [
    {
     "name": "stdout",
     "output_type": "stream",
     "text": [
      "CPU times: user 10 ms, sys: 0 ns, total: 10 ms\n",
      "Wall time: 10.9 ms\n"
     ]
    },
    {
     "data": {
      "text/html": [
       "<div>\n",
       "<style scoped>\n",
       "    .dataframe tbody tr th:only-of-type {\n",
       "        vertical-align: middle;\n",
       "    }\n",
       "\n",
       "    .dataframe tbody tr th {\n",
       "        vertical-align: top;\n",
       "    }\n",
       "\n",
       "    .dataframe thead th {\n",
       "        text-align: right;\n",
       "    }\n",
       "</style>\n",
       "<table border=\"1\" class=\"dataframe\">\n",
       "  <thead>\n",
       "    <tr style=\"text-align: right;\">\n",
       "      <th></th>\n",
       "      <th>prompt_length</th>\n",
       "      <th>response_a_length</th>\n",
       "      <th>response_b_length</th>\n",
       "      <th>length_diff</th>\n",
       "      <th>readability_diff</th>\n",
       "    </tr>\n",
       "  </thead>\n",
       "  <tbody>\n",
       "    <tr>\n",
       "      <th>count</th>\n",
       "      <td>3.000000</td>\n",
       "      <td>3.000000</td>\n",
       "      <td>3.000000</td>\n",
       "      <td>3.000000</td>\n",
       "      <td>3.000000</td>\n",
       "    </tr>\n",
       "    <tr>\n",
       "      <th>mean</th>\n",
       "      <td>263.666667</td>\n",
       "      <td>1824.000000</td>\n",
       "      <td>1430.000000</td>\n",
       "      <td>449.333333</td>\n",
       "      <td>22.500008</td>\n",
       "    </tr>\n",
       "    <tr>\n",
       "      <th>std</th>\n",
       "      <td>205.022763</td>\n",
       "      <td>2001.891356</td>\n",
       "      <td>1987.278541</td>\n",
       "      <td>483.229069</td>\n",
       "      <td>9.577300</td>\n",
       "    </tr>\n",
       "    <tr>\n",
       "      <th>min</th>\n",
       "      <td>86.000000</td>\n",
       "      <td>31.000000</td>\n",
       "      <td>114.000000</td>\n",
       "      <td>83.000000</td>\n",
       "      <td>11.461974</td>\n",
       "    </tr>\n",
       "    <tr>\n",
       "      <th>25%</th>\n",
       "      <td>151.500000</td>\n",
       "      <td>744.000000</td>\n",
       "      <td>287.000000</td>\n",
       "      <td>175.500000</td>\n",
       "      <td>19.446379</td>\n",
       "    </tr>\n",
       "    <tr>\n",
       "      <th>50%</th>\n",
       "      <td>217.000000</td>\n",
       "      <td>1457.000000</td>\n",
       "      <td>460.000000</td>\n",
       "      <td>268.000000</td>\n",
       "      <td>27.430785</td>\n",
       "    </tr>\n",
       "    <tr>\n",
       "      <th>75%</th>\n",
       "      <td>352.500000</td>\n",
       "      <td>2720.500000</td>\n",
       "      <td>2088.000000</td>\n",
       "      <td>632.500000</td>\n",
       "      <td>28.019026</td>\n",
       "    </tr>\n",
       "    <tr>\n",
       "      <th>max</th>\n",
       "      <td>488.000000</td>\n",
       "      <td>3984.000000</td>\n",
       "      <td>3716.000000</td>\n",
       "      <td>997.000000</td>\n",
       "      <td>28.607267</td>\n",
       "    </tr>\n",
       "  </tbody>\n",
       "</table>\n",
       "</div>"
      ],
      "text/plain": [
       "       prompt_length  response_a_length  response_b_length  length_diff  \\\n",
       "count       3.000000           3.000000           3.000000     3.000000   \n",
       "mean      263.666667        1824.000000        1430.000000   449.333333   \n",
       "std       205.022763        2001.891356        1987.278541   483.229069   \n",
       "min        86.000000          31.000000         114.000000    83.000000   \n",
       "25%       151.500000         744.000000         287.000000   175.500000   \n",
       "50%       217.000000        1457.000000         460.000000   268.000000   \n",
       "75%       352.500000        2720.500000        2088.000000   632.500000   \n",
       "max       488.000000        3984.000000        3716.000000   997.000000   \n",
       "\n",
       "       readability_diff  \n",
       "count          3.000000  \n",
       "mean          22.500008  \n",
       "std            9.577300  \n",
       "min           11.461974  \n",
       "25%           19.446379  \n",
       "50%           27.430785  \n",
       "75%           28.019026  \n",
       "max           28.607267  "
      ]
     },
     "execution_count": 17,
     "metadata": {},
     "output_type": "execute_result"
    }
   ],
   "source": [
    "%time test_df[features].describe()\n"
   ]
  },
  {
   "cell_type": "code",
   "execution_count": 18,
   "id": "f2ed66d4",
   "metadata": {
    "execution": {
     "iopub.execute_input": "2025-03-25T11:17:50.429037Z",
     "iopub.status.busy": "2025-03-25T11:17:50.428821Z",
     "iopub.status.idle": "2025-03-25T11:17:50.434291Z",
     "shell.execute_reply": "2025-03-25T11:17:50.433556Z"
    },
    "papermill": {
     "duration": 0.014857,
     "end_time": "2025-03-25T11:17:50.435523",
     "exception": false,
     "start_time": "2025-03-25T11:17:50.420666",
     "status": "completed"
    },
    "tags": []
   },
   "outputs": [],
   "source": [
    "test_X = scaler.transform(test_df[features].astype(np.float32))\n"
   ]
  },
  {
   "cell_type": "code",
   "execution_count": 19,
   "id": "49310492",
   "metadata": {
    "execution": {
     "iopub.execute_input": "2025-03-25T11:17:50.451036Z",
     "iopub.status.busy": "2025-03-25T11:17:50.450825Z",
     "iopub.status.idle": "2025-03-25T11:17:50.457049Z",
     "shell.execute_reply": "2025-03-25T11:17:50.456315Z"
    },
    "papermill": {
     "duration": 0.01563,
     "end_time": "2025-03-25T11:17:50.458346",
     "exception": false,
     "start_time": "2025-03-25T11:17:50.442716",
     "status": "completed"
    },
    "tags": []
   },
   "outputs": [
    {
     "name": "stdout",
     "output_type": "stream",
     "text": [
      "CPU times: user 1.87 ms, sys: 0 ns, total: 1.87 ms\n",
      "Wall time: 1.81 ms\n"
     ]
    }
   ],
   "source": [
    "%time test_X = scaler.transform(test_df[features])\n"
   ]
  },
  {
   "cell_type": "code",
   "execution_count": 20,
   "id": "436fc0e9",
   "metadata": {
    "execution": {
     "iopub.execute_input": "2025-03-25T11:17:50.474262Z",
     "iopub.status.busy": "2025-03-25T11:17:50.474040Z",
     "iopub.status.idle": "2025-03-25T11:17:50.477521Z",
     "shell.execute_reply": "2025-03-25T11:17:50.476933Z"
    },
    "papermill": {
     "duration": 0.012437,
     "end_time": "2025-03-25T11:17:50.478623",
     "exception": false,
     "start_time": "2025-03-25T11:17:50.466186",
     "status": "completed"
    },
    "tags": []
   },
   "outputs": [],
   "source": [
    "test_predictions = xgb_model.predict_proba(test_X)\n"
   ]
  },
  {
   "cell_type": "code",
   "execution_count": 21,
   "id": "39766adb",
   "metadata": {
    "execution": {
     "iopub.execute_input": "2025-03-25T11:17:50.494041Z",
     "iopub.status.busy": "2025-03-25T11:17:50.493846Z",
     "iopub.status.idle": "2025-03-25T11:17:50.502599Z",
     "shell.execute_reply": "2025-03-25T11:17:50.501772Z"
    },
    "papermill": {
     "duration": 0.017884,
     "end_time": "2025-03-25T11:17:50.503871",
     "exception": false,
     "start_time": "2025-03-25T11:17:50.485987",
     "status": "completed"
    },
    "tags": []
   },
   "outputs": [
    {
     "name": "stdout",
     "output_type": "stream",
     "text": [
      "✅ Submission file saved successfully! 🎉\n"
     ]
    }
   ],
   "source": [
    "submission = pd.DataFrame(test_predictions, columns=['winner_model_a', 'winner_model_b', 'winner_tie'])\n",
    "submission.insert(0, 'id', test_df['id'])\n",
    "submission.to_csv(\"submission.csv\", index=False)\n",
    "\n",
    "print(\"✅ Submission file saved successfully! 🎉\")\n"
   ]
  },
  {
   "cell_type": "code",
   "execution_count": 22,
   "id": "51cd3141",
   "metadata": {
    "execution": {
     "iopub.execute_input": "2025-03-25T11:17:50.519518Z",
     "iopub.status.busy": "2025-03-25T11:17:50.519321Z",
     "iopub.status.idle": "2025-03-25T11:17:50.522919Z",
     "shell.execute_reply": "2025-03-25T11:17:50.522311Z"
    },
    "papermill": {
     "duration": 0.012667,
     "end_time": "2025-03-25T11:17:50.524048",
     "exception": false,
     "start_time": "2025-03-25T11:17:50.511381",
     "status": "completed"
    },
    "tags": []
   },
   "outputs": [],
   "source": [
    "# Predict probabilities using trained XGBoost model\n",
    "test_predictions = xgb_model.predict_proba(test_X)\n"
   ]
  },
  {
   "cell_type": "code",
   "execution_count": 23,
   "id": "5e83fbd2",
   "metadata": {
    "execution": {
     "iopub.execute_input": "2025-03-25T11:17:50.541972Z",
     "iopub.status.busy": "2025-03-25T11:17:50.541751Z",
     "iopub.status.idle": "2025-03-25T11:17:50.558214Z",
     "shell.execute_reply": "2025-03-25T11:17:50.557384Z"
    },
    "papermill": {
     "duration": 0.026108,
     "end_time": "2025-03-25T11:17:50.559537",
     "exception": false,
     "start_time": "2025-03-25T11:17:50.533429",
     "status": "completed"
    },
    "tags": []
   },
   "outputs": [
    {
     "name": "stdout",
     "output_type": "stream",
     "text": [
      "✅ Model saved as 'xgboost_model.pkl'!\n"
     ]
    }
   ],
   "source": [
    "import joblib\n",
    "\n",
    "# Save the trained model\n",
    "joblib.dump(xgb_model, \"xgboost_model.pkl\")\n",
    "\n",
    "print(\"✅ Model saved as 'xgboost_model.pkl'!\")"
   ]
  },
  {
   "cell_type": "code",
   "execution_count": 24,
   "id": "a59e9cc6",
   "metadata": {
    "execution": {
     "iopub.execute_input": "2025-03-25T11:17:50.575620Z",
     "iopub.status.busy": "2025-03-25T11:17:50.575418Z",
     "iopub.status.idle": "2025-03-25T11:17:50.625437Z",
     "shell.execute_reply": "2025-03-25T11:17:50.624684Z"
    },
    "papermill": {
     "duration": 0.059039,
     "end_time": "2025-03-25T11:17:50.626576",
     "exception": false,
     "start_time": "2025-03-25T11:17:50.567537",
     "status": "completed"
    },
    "tags": []
   },
   "outputs": [
    {
     "name": "stdout",
     "output_type": "stream",
     "text": [
      "✅ Model saved as 'xgboost_model.json'!\n"
     ]
    }
   ],
   "source": [
    "xgb_model.save_model(\"xgboost_model.json\")\n",
    "print(\"✅ Model saved as 'xgboost_model.json'!\")"
   ]
  },
  {
   "cell_type": "code",
   "execution_count": 25,
   "id": "b5ef71ac",
   "metadata": {
    "execution": {
     "iopub.execute_input": "2025-03-25T11:17:50.642473Z",
     "iopub.status.busy": "2025-03-25T11:17:50.642268Z",
     "iopub.status.idle": "2025-03-25T11:17:50.657410Z",
     "shell.execute_reply": "2025-03-25T11:17:50.656717Z"
    },
    "papermill": {
     "duration": 0.024436,
     "end_time": "2025-03-25T11:17:50.658599",
     "exception": false,
     "start_time": "2025-03-25T11:17:50.634163",
     "status": "completed"
    },
    "tags": []
   },
   "outputs": [
    {
     "name": "stdout",
     "output_type": "stream",
     "text": [
      "✅ Model loaded successfully!\n"
     ]
    }
   ],
   "source": [
    "import joblib\n",
    "\n",
    "# Load the saved model\n",
    "xgb_model = joblib.load(\"xgboost_model.pkl\")\n",
    "\n",
    "print(\"✅ Model loaded successfully!\")"
   ]
  },
  {
   "cell_type": "code",
   "execution_count": 26,
   "id": "d69e2d3f",
   "metadata": {
    "execution": {
     "iopub.execute_input": "2025-03-25T11:17:50.674368Z",
     "iopub.status.busy": "2025-03-25T11:17:50.674135Z",
     "iopub.status.idle": "2025-03-25T11:17:50.811880Z",
     "shell.execute_reply": "2025-03-25T11:17:50.811027Z"
    },
    "papermill": {
     "duration": 0.14698,
     "end_time": "2025-03-25T11:17:50.813178",
     "exception": false,
     "start_time": "2025-03-25T11:17:50.666198",
     "status": "completed"
    },
    "tags": []
   },
   "outputs": [
    {
     "name": "stdout",
     "output_type": "stream",
     "text": [
      "✅ Model loaded successfully!\n"
     ]
    }
   ],
   "source": [
    "from xgboost import XGBClassifier\n",
    "\n",
    "xgb_model = XGBClassifier()\n",
    "xgb_model.load_model(\"xgboost_model.json\")\n",
    "\n",
    "print(\"✅ Model loaded successfully!\")"
   ]
  },
  {
   "cell_type": "code",
   "execution_count": 27,
   "id": "63080cf2",
   "metadata": {
    "execution": {
     "iopub.execute_input": "2025-03-25T11:17:50.829898Z",
     "iopub.status.busy": "2025-03-25T11:17:50.829603Z",
     "iopub.status.idle": "2025-03-25T11:17:50.845790Z",
     "shell.execute_reply": "2025-03-25T11:17:50.844947Z"
    },
    "papermill": {
     "duration": 0.026109,
     "end_time": "2025-03-25T11:17:50.847154",
     "exception": false,
     "start_time": "2025-03-25T11:17:50.821045",
     "status": "completed"
    },
    "tags": []
   },
   "outputs": [
    {
     "name": "stdout",
     "output_type": "stream",
     "text": [
      "✅ Model saved at /kaggle/working/xgboost_model.pkl\n"
     ]
    }
   ],
   "source": [
    "import joblib\n",
    "\n",
    "# Save the trained model\n",
    "joblib.dump(xgb_model, \"/kaggle/working/xgboost_model.pkl\")\n",
    "\n",
    "print(\"✅ Model saved at /kaggle/working/xgboost_model.pkl\")\n"
   ]
  },
  {
   "cell_type": "code",
   "execution_count": 28,
   "id": "3e1c162d",
   "metadata": {
    "execution": {
     "iopub.execute_input": "2025-03-25T11:17:50.863606Z",
     "iopub.status.busy": "2025-03-25T11:17:50.863374Z",
     "iopub.status.idle": "2025-03-25T11:17:50.880171Z",
     "shell.execute_reply": "2025-03-25T11:17:50.879311Z"
    },
    "papermill": {
     "duration": 0.026466,
     "end_time": "2025-03-25T11:17:50.881471",
     "exception": false,
     "start_time": "2025-03-25T11:17:50.855005",
     "status": "completed"
    },
    "tags": []
   },
   "outputs": [
    {
     "name": "stdout",
     "output_type": "stream",
     "text": [
      "✅ Model loaded successfully!\n"
     ]
    }
   ],
   "source": [
    "import joblib\n",
    "\n",
    "# Load the saved model\n",
    "xgb_model = joblib.load(\"/kaggle/working/xgboost_model.pkl\")\n",
    "\n",
    "print(\"✅ Model loaded successfully!\")\n"
   ]
  },
  {
   "cell_type": "code",
   "execution_count": 29,
   "id": "0e5e82bb",
   "metadata": {
    "execution": {
     "iopub.execute_input": "2025-03-25T11:17:50.899490Z",
     "iopub.status.busy": "2025-03-25T11:17:50.899270Z",
     "iopub.status.idle": "2025-03-25T11:17:50.915582Z",
     "shell.execute_reply": "2025-03-25T11:17:50.914665Z"
    },
    "papermill": {
     "duration": 0.026138,
     "end_time": "2025-03-25T11:17:50.917100",
     "exception": false,
     "start_time": "2025-03-25T11:17:50.890962",
     "status": "completed"
    },
    "tags": []
   },
   "outputs": [
    {
     "data": {
      "text/plain": [
       "['/kaggle/working/xgboost_model.pkl']"
      ]
     },
     "execution_count": 29,
     "metadata": {},
     "output_type": "execute_result"
    }
   ],
   "source": [
    "import joblib\n",
    "\n",
    "# Save model in Kaggle's working directory\n",
    "joblib.dump(xgb_model, \"/kaggle/working/xgboost_model.pkl\")\n"
   ]
  }
 ],
 "metadata": {
  "kaggle": {
   "accelerator": "nvidiaTeslaT4",
   "dataSources": [
    {
     "databundleVersionId": 9809560,
     "sourceId": 86518,
     "sourceType": "competition"
    }
   ],
   "dockerImageVersionId": 30919,
   "isGpuEnabled": true,
   "isInternetEnabled": false,
   "language": "python",
   "sourceType": "notebook"
  },
  "kernelspec": {
   "display_name": "Python 3",
   "language": "python",
   "name": "python3"
  },
  "language_info": {
   "codemirror_mode": {
    "name": "ipython",
    "version": 3
   },
   "file_extension": ".py",
   "mimetype": "text/x-python",
   "name": "python",
   "nbconvert_exporter": "python",
   "pygments_lexer": "ipython3",
   "version": "3.10.12"
  },
  "papermill": {
   "default_parameters": {},
   "duration": 72.35895,
   "end_time": "2025-03-25T11:17:52.847027",
   "environment_variables": {},
   "exception": null,
   "input_path": "__notebook__.ipynb",
   "output_path": "__notebook__.ipynb",
   "parameters": {},
   "start_time": "2025-03-25T11:16:40.488077",
   "version": "2.6.0"
  }
 },
 "nbformat": 4,
 "nbformat_minor": 5
}
